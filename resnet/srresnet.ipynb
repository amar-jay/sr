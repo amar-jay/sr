{
 "cells": [
  {
   "cell_type": "code",
   "execution_count": 2,
   "id": "a04d100a-c8a7-4e83-af61-217228a436e7",
   "metadata": {},
   "outputs": [],
   "source": [
    "# check getloader return type supposed to be lr_image, hr_image"
   ]
  },
  {
   "cell_type": "code",
   "execution_count": 1,
   "id": "c6b1af52-a405-4de1-8d55-d434c700fdd0",
   "metadata": {},
   "outputs": [],
   "source": [
    "# check model architecuture, whethere there are incopatible channel sizes"
   ]
  },
  {
   "cell_type": "code",
   "execution_count": 3,
   "id": "1be3dfe9-db06-465e-8694-38fb80f9251b",
   "metadata": {},
   "outputs": [],
   "source": [
    "# train using lightning"
   ]
  }
 ],
 "metadata": {
  "kernelspec": {
   "display_name": "Python 3 (ipykernel)",
   "language": "python",
   "name": "python3"
  },
  "language_info": {
   "codemirror_mode": {
    "name": "ipython",
    "version": 3
   },
   "file_extension": ".py",
   "mimetype": "text/x-python",
   "name": "python",
   "nbconvert_exporter": "python",
   "pygments_lexer": "ipython3",
   "version": "3.10.12"
  },
  "widgets": {
   "application/vnd.jupyter.widget-state+json": {
    "state": {},
    "version_major": 2,
    "version_minor": 0
   }
  }
 },
 "nbformat": 4,
 "nbformat_minor": 5
}
