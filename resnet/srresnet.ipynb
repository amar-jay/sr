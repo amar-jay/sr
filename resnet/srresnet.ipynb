{
 "cells": [
  {
   "cell_type": "code",
   "execution_count": null,
   "id": "a04d100a-c8a7-4e83-af61-217228a436e7",
   "metadata": {},
   "outputs": [],
   "source": [
    "# check getloader return type supposed to be lr_image, hr_image\n",
    "from model import SRResnetConfig, LitSRResnet\n",
    "from dataset import get_dataloader\n",
    "\n",
    "train_dataset,test_dataset =get_dataloader(batch_size=1, num_workers=1)\n"
   ]
  },
  {
   "cell_type": "code",
   "execution_count": null,
   "id": "d5b4ddd4",
   "metadata": {},
   "outputs": [],
   "source": [
    "for x, y in train_dataset:\n",
    "    print(x.shape, y.shape)\n",
    "    break"
   ]
  },
  {
   "cell_type": "code",
   "execution_count": null,
   "id": "c6b1af52-a405-4de1-8d55-d434c700fdd0",
   "metadata": {},
   "outputs": [],
   "source": [
    "# check model architecuture, whethere there are incopatible channel sizes\n",
    "import torch\n",
    "from sr.resnet.model import *\n",
    "config = SRResnetConfig(\n",
    "    hidden_channel=3,\n",
    "    device='cuda',\n",
    "    lr=1e-3,\n",
    "    is_training=True\n",
    ")\n",
    "model = LitSRResnet(config)\n",
    "\n",
    "y = model(torch.rand(1, 3, 12, 12))\n",
    "y.shape"
   ]
  },
  {
   "cell_type": "code",
   "execution_count": null,
   "id": "1be3dfe9-db06-465e-8694-38fb80f9251b",
   "metadata": {},
   "outputs": [],
   "source": [
    "import pytorch_lightning as L\n",
    "from pytorch_lightning.callbacks import ModelCheckpoint\n",
    "\n",
    "\n",
    "checkpoint_callback = ModelCheckpoint(\n",
    "    monitor='val_loss',   # Metric to monitor\n",
    "    filename='model',  # Filename for the best checkpoint\n",
    "    save_top_k=3,          # Save only the best model\n",
    "    mode='min'             # Save the model with minimum validation loss\n",
    ")\n",
    "\n",
    "# train using lightning\n",
    "trainer = L.Trainer(max_epochs=2, callbacks=[checkpoint_callback])\n",
    "trainer.fit(model, train_dataloaders=train_dataset, val_dataloaders=val_dataset)\n"
   ]
  }
 ],
 "metadata": {
  "kernelspec": {
   "display_name": "Python 3",
   "language": "python",
   "name": "python3"
  },
  "language_info": {
   "codemirror_mode": {
    "name": "ipython",
    "version": 3
   },
   "file_extension": ".py",
   "mimetype": "text/x-python",
   "name": "python",
   "nbconvert_exporter": "python",
   "pygments_lexer": "ipython3",
   "version": "3.10.10"
  },
  "widgets": {
   "application/vnd.jupyter.widget-state+json": {
    "state": {},
    "version_major": 2,
    "version_minor": 0
   }
  }
 },
 "nbformat": 4,
 "nbformat_minor": 5
}
