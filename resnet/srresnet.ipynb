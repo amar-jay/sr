{
 "cells": [
  {
   "cell_type": "code",
   "execution_count": 7,
   "id": "a04d100a-c8a7-4e83-af61-217228a436e7",
   "metadata": {},
   "outputs": [
    {
     "name": "stdout",
     "output_type": "stream",
     "text": [
      "Files already downloaded and verified\n",
      "Files already downloaded and verified\n"
     ]
    }
   ],
   "source": [
    "# check getloader return type supposed to be lr_image, hr_image\n",
    "from model import SRResnetConfig, LitSRResnet\n",
    "from dataset import get_dataloader\n",
    "\n",
    "train_dataset,test_dataset =get_dataloader(batch_size=1, num_workers=3, input_px=128, output_px=262)\n"
   ]
  },
  {
   "cell_type": "code",
   "execution_count": 8,
   "id": "d5b4ddd4",
   "metadata": {},
   "outputs": [
    {
     "name": "stdout",
     "output_type": "stream",
     "text": [
      "torch.Size([1, 3, 128, 128]) torch.Size([1, 3, 262, 262])\n"
     ]
    }
   ],
   "source": [
    "for x, y in train_dataset:\n",
    "    print(x.shape, y.shape)\n",
    "    break"
   ]
  },
  {
   "cell_type": "code",
   "execution_count": 10,
   "id": "c6b1af52-a405-4de1-8d55-d434c700fdd0",
   "metadata": {},
   "outputs": [
    {
     "name": "stdout",
     "output_type": "stream",
     "text": [
      "torch.Size([1, 3, 262, 262])\n"
     ]
    },
    {
     "data": {
      "text/plain": [
       "(torch.Size([]),\n",
       " device(type='cpu'),\n",
       " device(type='cpu'),\n",
       " tensor(0.8000),\n",
       " tensor(0.8000))"
      ]
     },
     "execution_count": 10,
     "metadata": {},
     "output_type": "execute_result"
    }
   ],
   "source": [
    "# check model architecuture, whethere there are incopatible channel sizes\n",
    "import torch\n",
    "from sr.resnet.model import *\n",
    "config = SRResnetConfig(\n",
    "    hidden_channel=3,\n",
    "    #device='cuda',\n",
    "    lr=1e-3,\n",
    "    is_training=True\n",
    ")\n",
    "model = LitSRResnet(config)\n",
    "inp = torch.rand(1, 3, 128, 128)*.8#.to('cuda')\n",
    "target = torch.rand(1, 3, 262, 262)*.8#.to('cuda')\n",
    "_y = model.model(inp)\n",
    "print(y.shape)\n",
    "\n",
    "_y = model.training_step((inp, target), 1)\n",
    "_y.shape, _y.device=, inp.device=, target.max()=, inp.max()="
   ]
  },
  {
   "cell_type": "code",
   "execution_count": 11,
   "id": "1be3dfe9-db06-465e-8694-38fb80f9251b",
   "metadata": {},
   "outputs": [
    {
     "name": "stderr",
     "output_type": "stream",
     "text": [
      "GPU available: False, used: False\n",
      "TPU available: False, using: 0 TPU cores\n",
      "HPU available: False, using: 0 HPUs\n",
      "\n",
      "  | Name  | Type                             | Params | Mode \n",
      "-------------------------------------------------------------------\n",
      "0 | model | SRResnetModelv1                  | 579    | train\n",
      "1 | pnsr  | PeakSignalNoiseRatio             | 0      | train\n",
      "2 | ssim  | StructuralSimilarityIndexMeasure | 0      | train\n",
      "-------------------------------------------------------------------\n",
      "579       Trainable params\n",
      "0         Non-trainable params\n",
      "579       Total params\n",
      "0.002     Total estimated model params size (MB)\n",
      "5         Modules in train mode\n",
      "0         Modules in eval mode\n"
     ]
    },
    {
     "data": {
      "application/vnd.jupyter.widget-view+json": {
       "model_id": "17d077ec2a3541929c264c815c9b91fb",
       "version_major": 2,
       "version_minor": 0
      },
      "text/plain": [
       "Sanity Checking: |          | 0/? [00:00<?, ?it/s]"
      ]
     },
     "metadata": {},
     "output_type": "display_data"
    },
    {
     "data": {
      "application/vnd.jupyter.widget-view+json": {
       "model_id": "697f175eb0064e2d89d72b448a55bb7f",
       "version_major": 2,
       "version_minor": 0
      },
      "text/plain": [
       "Training: |          | 0/? [00:00<?, ?it/s]"
      ]
     },
     "metadata": {},
     "output_type": "display_data"
    },
    {
     "data": {
      "application/vnd.jupyter.widget-view+json": {
       "model_id": "516549de28de4300b1c630fd3ea24577",
       "version_major": 2,
       "version_minor": 0
      },
      "text/plain": [
       "Validation: |          | 0/? [00:00<?, ?it/s]"
      ]
     },
     "metadata": {},
     "output_type": "display_data"
    }
   ],
   "source": [
    "import pytorch_lightning as L\n",
    "from pytorch_lightning.callbacks import ModelCheckpoint\n",
    "\n",
    "\n",
    "checkpoint_callback = ModelCheckpoint(\n",
    "    monitor='val_loss',   # Metric to monitor\n",
    "    filename='model',  # Filename for the best checkpoint\n",
    "    save_top_k=3,          # Save only the best model\n",
    "    mode='min'             # Save the model with minimum validation loss\n",
    ")\n",
    "\n",
    "# train using lightning\n",
    "trainer = L.Trainer(max_epochs=2, callbacks=[checkpoint_callback])\n",
    "trainer.fit(model, train_dataloaders=train_dataset, val_dataloaders=test_dataset)\n",
    "print(trainer)\n"
   ]
  }
 ],
 "metadata": {
  "kernelspec": {
   "display_name": "Python 3",
   "language": "python",
   "name": "python3"
  },
  "language_info": {
   "codemirror_mode": {
    "name": "ipython",
    "version": 3
   },
   "file_extension": ".py",
   "mimetype": "text/x-python",
   "name": "python",
   "nbconvert_exporter": "python",
   "pygments_lexer": "ipython3",
   "version": "3.10.10"
  },
  "widgets": {
   "application/vnd.jupyter.widget-state+json": {
    "state": {},
    "version_major": 2,
    "version_minor": 0
   }
  }
 },
 "nbformat": 4,
 "nbformat_minor": 5
}
